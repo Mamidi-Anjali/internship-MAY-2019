{
 "cells": [
  {
   "cell_type": "markdown",
   "metadata": {},
   "source": [
    "## INTERNSHIP\n",
    "### DAY NO:13\n",
    "### DATE: 8th June 2019"
   ]
  },
  {
   "cell_type": "code",
   "execution_count": 1,
   "metadata": {
    "scrolled": true
   },
   "outputs": [
    {
     "name": "stdout",
     "output_type": "stream",
     "text": [
      "1.13.1\n"
     ]
    }
   ],
   "source": [
    "import tensorflow as tf\n",
    "print(tf.__version__)"
   ]
  },
  {
   "cell_type": "code",
   "execution_count": 8,
   "metadata": {},
   "outputs": [],
   "source": [
    "import pandas as pd\n",
    "X_train =  pd.read_csv(\"Data Files/xtrain.csv\")\n",
    "Y_train =  pd.read_csv(\"Data Files/ytrain.csv\")\n",
    "X_test =  pd.read_csv(\"Data Files/xtest.csv\")\n",
    "Y_test =  pd.read_csv(\"Data Files/ytrain.csv\")"
   ]
  },
  {
   "cell_type": "code",
   "execution_count": 10,
   "metadata": {},
   "outputs": [
    {
     "name": "stdout",
     "output_type": "stream",
     "text": [
      "WARNING:tensorflow:From C:\\Users\\mamid\\Anaconda3\\lib\\site-packages\\tensorflow\\python\\framework\\op_def_library.py:263: colocate_with (from tensorflow.python.framework.ops) is deprecated and will be removed in a future version.\n",
      "Instructions for updating:\n",
      "Colocations handled automatically by placer.\n"
     ]
    },
    {
     "name": "stderr",
     "output_type": "stream",
     "text": [
      "Using TensorFlow backend.\n"
     ]
    }
   ],
   "source": [
    "from keras.models import Sequential\n",
    "from keras.layers import Dense\n",
    "\n",
    "classifier = Sequential()\n",
    "\n",
    "classifier.add(Dense(units =16, activation ='relu' , input_dim=30))\n",
    "classifier.add(Dense(units =8, activation ='relu'))\n",
    "classifier.add(Dense(units =6, activation ='relu'))\n",
    "classifier.add(Dense(units =1, activation ='sigmoid'))"
   ]
  },
  {
   "cell_type": "code",
   "execution_count": 12,
   "metadata": {},
   "outputs": [],
   "source": [
    "classifier.compile(optimizer='rmsprop' , loss='binary_crossentropy')"
   ]
  },
  {
   "cell_type": "code",
   "execution_count": 13,
   "metadata": {},
   "outputs": [
    {
     "name": "stdout",
     "output_type": "stream",
     "text": [
      "WARNING:tensorflow:From C:\\Users\\mamid\\Anaconda3\\lib\\site-packages\\tensorflow\\python\\ops\\math_ops.py:3066: to_int32 (from tensorflow.python.ops.math_ops) is deprecated and will be removed in a future version.\n",
      "Instructions for updating:\n",
      "Use tf.cast instead.\n",
      "Epoch 1/100\n",
      "454/454 [==============================] - 1s 2ms/step - loss: 0.2733\n",
      "Epoch 2/100\n",
      "454/454 [==============================] - 0s 869us/step - loss: 0.0994\n",
      "Epoch 3/100\n",
      "454/454 [==============================] - 0s 857us/step - loss: 0.0875\n",
      "Epoch 4/100\n",
      "454/454 [==============================] - 0s 805us/step - loss: 0.0780\n",
      "Epoch 5/100\n",
      "454/454 [==============================] - 0s 899us/step - loss: 0.0755\n",
      "Epoch 6/100\n",
      "454/454 [==============================] - 0s 1ms/step - loss: 0.0790\n",
      "Epoch 7/100\n",
      "454/454 [==============================] - 1s 1ms/step - loss: 0.0764\n",
      "Epoch 8/100\n",
      "454/454 [==============================] - 0s 1ms/step - loss: 0.0781\n",
      "Epoch 9/100\n",
      "454/454 [==============================] - 0s 940us/step - loss: 0.0752\n",
      "Epoch 10/100\n",
      "454/454 [==============================] - 0s 831us/step - loss: 0.0818\n",
      "Epoch 11/100\n",
      "454/454 [==============================] - 0s 858us/step - loss: 0.0756\n",
      "Epoch 12/100\n",
      "454/454 [==============================] - 0s 943us/step - loss: 0.0770\n",
      "Epoch 13/100\n",
      "454/454 [==============================] - 0s 876us/step - loss: 0.0741\n",
      "Epoch 14/100\n",
      "454/454 [==============================] - 0s 831us/step - loss: 0.0689\n",
      "Epoch 15/100\n",
      "454/454 [==============================] - 0s 903us/step - loss: 0.0676\n",
      "Epoch 16/100\n",
      "454/454 [==============================] - 0s 826us/step - loss: 0.0624\n",
      "Epoch 17/100\n",
      "454/454 [==============================] - 0s 889us/step - loss: 0.0699\n",
      "Epoch 18/100\n",
      "454/454 [==============================] - 0s 812us/step - loss: 0.0659\n",
      "Epoch 19/100\n",
      "454/454 [==============================] - 0s 840us/step - loss: 0.0600\n",
      "Epoch 20/100\n",
      "454/454 [==============================] - 0s 882us/step - loss: 0.0531\n",
      "Epoch 21/100\n",
      "454/454 [==============================] - 0s 880us/step - loss: 0.0563\n",
      "Epoch 22/100\n",
      "454/454 [==============================] - 0s 914us/step - loss: 0.0620\n",
      "Epoch 23/100\n",
      "454/454 [==============================] - 0s 891us/step - loss: 0.0507\n",
      "Epoch 24/100\n",
      "454/454 [==============================] - 0s 896us/step - loss: 0.0522\n",
      "Epoch 25/100\n",
      "454/454 [==============================] - 0s 928us/step - loss: 0.0631\n",
      "Epoch 26/100\n",
      "454/454 [==============================] - 0s 1ms/step - loss: 0.0602\n",
      "Epoch 27/100\n",
      "454/454 [==============================] - 1s 1ms/step - loss: 0.0499\n",
      "Epoch 28/100\n",
      "454/454 [==============================] - 1s 1ms/step - loss: 0.0611\n",
      "Epoch 29/100\n",
      "454/454 [==============================] - 1s 1ms/step - loss: 0.0608\n",
      "Epoch 30/100\n",
      "454/454 [==============================] - 1s 1ms/step - loss: 0.0651\n",
      "Epoch 31/100\n",
      "454/454 [==============================] - 0s 998us/step - loss: 0.0664\n",
      "Epoch 32/100\n",
      "454/454 [==============================] - 1s 1ms/step - loss: 0.0600\n",
      "Epoch 33/100\n",
      "454/454 [==============================] - 1s 1ms/step - loss: 0.0585\n",
      "Epoch 34/100\n",
      "454/454 [==============================] - 1s 1ms/step - loss: 0.0533\n",
      "Epoch 35/100\n",
      "454/454 [==============================] - 0s 1ms/step - loss: 0.0539\n",
      "Epoch 36/100\n",
      "454/454 [==============================] - 0s 981us/step - loss: 0.0529\n",
      "Epoch 37/100\n",
      "454/454 [==============================] - 0s 922us/step - loss: 0.0532\n",
      "Epoch 38/100\n",
      "454/454 [==============================] - 0s 940us/step - loss: 0.0537\n",
      "Epoch 39/100\n",
      "454/454 [==============================] - 0s 950us/step - loss: 0.0560\n",
      "Epoch 40/100\n",
      "454/454 [==============================] - 0s 980us/step - loss: 0.0457\n",
      "Epoch 41/100\n",
      "454/454 [==============================] - 0s 958us/step - loss: 0.0527\n",
      "Epoch 42/100\n",
      "454/454 [==============================] - 1s 1ms/step - loss: 0.0510\n",
      "Epoch 43/100\n",
      "454/454 [==============================] - 1s 1ms/step - loss: 0.0595\n",
      "Epoch 44/100\n",
      "454/454 [==============================] - 0s 967us/step - loss: 0.0639\n",
      "Epoch 45/100\n",
      "454/454 [==============================] - 0s 969us/step - loss: 0.0497\n",
      "Epoch 46/100\n",
      "454/454 [==============================] - 1s 1ms/step - loss: 0.0597\n",
      "Epoch 47/100\n",
      "454/454 [==============================] - 1s 1ms/step - loss: 0.0577\n",
      "Epoch 48/100\n",
      "454/454 [==============================] - 1s 1ms/step - loss: 0.0515\n",
      "Epoch 49/100\n",
      "454/454 [==============================] - 0s 989us/step - loss: 0.0458\n",
      "Epoch 50/100\n",
      "454/454 [==============================] - 1s 1ms/step - loss: 0.0719\n",
      "Epoch 51/100\n",
      "454/454 [==============================] - 0s 982us/step - loss: 0.0496\n",
      "Epoch 52/100\n",
      "454/454 [==============================] - 0s 989us/step - loss: 0.0478\n",
      "Epoch 53/100\n",
      "454/454 [==============================] - 0s 861us/step - loss: 0.0563\n",
      "Epoch 54/100\n",
      "454/454 [==============================] - 0s 895us/step - loss: 0.0492\n",
      "Epoch 55/100\n",
      "454/454 [==============================] - 0s 939us/step - loss: 0.0520\n",
      "Epoch 56/100\n",
      "454/454 [==============================] - 0s 843us/step - loss: 0.0371\n",
      "Epoch 57/100\n",
      "454/454 [==============================] - 0s 874us/step - loss: 0.0421\n",
      "Epoch 58/100\n",
      "454/454 [==============================] - 0s 896us/step - loss: 0.0372\n",
      "Epoch 59/100\n",
      "454/454 [==============================] - 0s 858us/step - loss: 0.0434\n",
      "Epoch 60/100\n",
      "454/454 [==============================] - 0s 923us/step - loss: 0.0278\n",
      "Epoch 61/100\n",
      "454/454 [==============================] - 0s 854us/step - loss: 0.0311\n",
      "Epoch 62/100\n",
      "454/454 [==============================] - 0s 1ms/step - loss: 0.0512\n",
      "Epoch 63/100\n",
      "454/454 [==============================] - 0s 901us/step - loss: 0.0362\n",
      "Epoch 64/100\n",
      "454/454 [==============================] - 0s 860us/step - loss: 0.0318\n",
      "Epoch 65/100\n",
      "454/454 [==============================] - 1s 1ms/step - loss: 0.0376\n",
      "Epoch 66/100\n",
      "454/454 [==============================] - 1s 1ms/step - loss: 0.0528\n",
      "Epoch 67/100\n",
      "454/454 [==============================] - 1s 1ms/step - loss: 0.0316\n",
      "Epoch 68/100\n",
      "454/454 [==============================] - 1s 2ms/step - loss: 0.0308\n",
      "Epoch 69/100\n",
      "454/454 [==============================] - 0s 1ms/step - loss: 0.0208\n",
      "Epoch 70/100\n",
      "454/454 [==============================] - 0s 1ms/step - loss: 0.0480\n",
      "Epoch 71/100\n",
      "454/454 [==============================] - 0s 838us/step - loss: 0.0351\n",
      "Epoch 72/100\n",
      "454/454 [==============================] - 0s 912us/step - loss: 0.0106\n",
      "Epoch 73/100\n",
      "454/454 [==============================] - 0s 839us/step - loss: 0.0252\n",
      "Epoch 74/100\n",
      "454/454 [==============================] - 0s 961us/step - loss: 0.0157\n",
      "Epoch 75/100\n",
      "454/454 [==============================] - 0s 1ms/step - loss: 0.0179\n",
      "Epoch 76/100\n",
      "454/454 [==============================] - 1s 1ms/step - loss: 0.0239\n",
      "Epoch 77/100\n",
      "454/454 [==============================] - 1s 2ms/step - loss: 0.0210\n",
      "Epoch 78/100\n",
      "454/454 [==============================] - 1s 1ms/step - loss: 0.0438\n",
      "Epoch 79/100\n",
      "454/454 [==============================] - 0s 1ms/step - loss: 0.0211\n",
      "Epoch 80/100\n",
      "454/454 [==============================] - 1s 1ms/step - loss: 0.0180\n",
      "Epoch 81/100\n",
      "454/454 [==============================] - 0s 933us/step - loss: 0.0320\n",
      "Epoch 82/100\n",
      "454/454 [==============================] - 1s 1ms/step - loss: 0.0218\n",
      "Epoch 83/100\n",
      "454/454 [==============================] - 0s 1ms/step - loss: 0.0130\n",
      "Epoch 84/100\n",
      "454/454 [==============================] - 1s 1ms/step - loss: 0.0313\n",
      "Epoch 85/100\n",
      "454/454 [==============================] - 0s 1ms/step - loss: 0.0205\n",
      "Epoch 86/100\n",
      "454/454 [==============================] - 1s 1ms/step - loss: 0.0091\n",
      "Epoch 87/100\n",
      "454/454 [==============================] - 0s 1ms/step - loss: 0.0284\n",
      "Epoch 88/100\n",
      "454/454 [==============================] - 0s 1ms/step - loss: 0.0207\n",
      "Epoch 89/100\n",
      "454/454 [==============================] - 1s 1ms/step - loss: 0.0291\n",
      "Epoch 90/100\n",
      "454/454 [==============================] - 0s 928us/step - loss: 0.0089\n",
      "Epoch 91/100\n",
      "454/454 [==============================] - 0s 827us/step - loss: 0.0268\n",
      "Epoch 92/100\n",
      "454/454 [==============================] - 0s 922us/step - loss: 0.0097\n",
      "Epoch 93/100\n",
      "454/454 [==============================] - 0s 930us/step - loss: 0.0283\n",
      "Epoch 94/100\n",
      "454/454 [==============================] - 0s 823us/step - loss: 0.0173\n",
      "Epoch 95/100\n",
      "454/454 [==============================] - 0s 859us/step - loss: 0.0224\n",
      "Epoch 96/100\n",
      "454/454 [==============================] - 0s 811us/step - loss: 0.0130\n",
      "Epoch 97/100\n",
      "454/454 [==============================] - 0s 883us/step - loss: 0.0054\n",
      "Epoch 98/100\n",
      "454/454 [==============================] - 0s 811us/step - loss: 0.0168\n",
      "Epoch 99/100\n",
      "454/454 [==============================] - 0s 813us/step - loss: 0.0289 0s - loss: 0.03\n",
      "Epoch 100/100\n",
      "454/454 [==============================] - 0s 1ms/step - loss: 0.0286\n"
     ]
    },
    {
     "data": {
      "text/plain": [
       "<keras.callbacks.History at 0x18f7171aba8>"
      ]
     },
     "execution_count": 13,
     "metadata": {},
     "output_type": "execute_result"
    }
   ],
   "source": [
    "classifier.fit(X_train,Y_train,batch_size=1,epochs=100)"
   ]
  },
  {
   "cell_type": "code",
   "execution_count": 14,
   "metadata": {},
   "outputs": [],
   "source": [
    "Y_pred = classifier.predict(X_test)\n",
    "Y_pred = [1 if y>=0.5 else 0 for y in Y_pred ]"
   ]
  },
  {
   "cell_type": "code",
   "execution_count": 18,
   "metadata": {
    "scrolled": true
   },
   "outputs": [
    {
     "name": "stdout",
     "output_type": "stream",
     "text": [
      "total  113\n",
      "correct  64\n",
      "wrong  49\n"
     ]
    }
   ],
   "source": [
    "total =0\n",
    "correct =0\n",
    "wrong =0\n",
    "for i in range(len(Y_pred)):\n",
    "    total = total+1\n",
    "    if(Y_test.iat[i,0] == Y_pred[i]):\n",
    "        correct = correct+1\n",
    "    else:\n",
    "        wrong = wrong+1\n",
    "print(\"total \",str(total))\n",
    "print(\"correct \",str(correct))\n",
    "print(\"wrong \",str(wrong))"
   ]
  },
  {
   "cell_type": "code",
   "execution_count": 25,
   "metadata": {},
   "outputs": [],
   "source": [
    "import tensorflow as tf"
   ]
  },
  {
   "cell_type": "code",
   "execution_count": 26,
   "metadata": {},
   "outputs": [
    {
     "ename": "SystemError",
     "evalue": "GPU device not found",
     "output_type": "error",
     "traceback": [
      "\u001b[1;31m---------------------------------------------------------------------------\u001b[0m",
      "\u001b[1;31mSystemError\u001b[0m                               Traceback (most recent call last)",
      "\u001b[1;32m<ipython-input-26-633bfb5509a3>\u001b[0m in \u001b[0;36m<module>\u001b[1;34m\u001b[0m\n\u001b[0;32m      1\u001b[0m \u001b[0mdevice_name\u001b[0m \u001b[1;33m=\u001b[0m \u001b[0mtf\u001b[0m\u001b[1;33m.\u001b[0m\u001b[0mtest\u001b[0m\u001b[1;33m.\u001b[0m\u001b[0mgpu_device_name\u001b[0m\u001b[1;33m(\u001b[0m\u001b[1;33m)\u001b[0m\u001b[1;33m\u001b[0m\u001b[1;33m\u001b[0m\u001b[0m\n\u001b[0;32m      2\u001b[0m \u001b[1;32mif\u001b[0m \u001b[0mdevice_name\u001b[0m \u001b[1;33m!=\u001b[0m \u001b[1;34m'/device:GPU:0'\u001b[0m \u001b[1;33m:\u001b[0m\u001b[1;33m\u001b[0m\u001b[1;33m\u001b[0m\u001b[0m\n\u001b[1;32m----> 3\u001b[1;33m     \u001b[1;32mraise\u001b[0m \u001b[0mSystemError\u001b[0m\u001b[1;33m(\u001b[0m\u001b[1;34m'GPU device not found'\u001b[0m\u001b[1;33m)\u001b[0m\u001b[1;33m\u001b[0m\u001b[1;33m\u001b[0m\u001b[0m\n\u001b[0m\u001b[0;32m      4\u001b[0m \u001b[0mprint\u001b[0m\u001b[1;33m(\u001b[0m\u001b[1;34m'Found GPU at: {}'\u001b[0m\u001b[1;33m.\u001b[0m\u001b[0mformat\u001b[0m\u001b[1;33m(\u001b[0m\u001b[0mdevice_name\u001b[0m\u001b[1;33m)\u001b[0m\u001b[1;33m)\u001b[0m\u001b[1;33m\u001b[0m\u001b[1;33m\u001b[0m\u001b[0m\n",
      "\u001b[1;31mSystemError\u001b[0m: GPU device not found"
     ]
    }
   ],
   "source": [
    "device_name = tf.test.gpu_device_name()\n",
    "if device_name != '/device:GPU:0' :\n",
    "    raise SystemError('GPU device not found')\n",
    "print('Found GPU at: {}'.format(device_name))"
   ]
  },
  {
   "cell_type": "code",
   "execution_count": null,
   "metadata": {},
   "outputs": [],
   "source": []
  }
 ],
 "metadata": {
  "kernelspec": {
   "display_name": "Python 3",
   "language": "python",
   "name": "python3"
  },
  "language_info": {
   "codemirror_mode": {
    "name": "ipython",
    "version": 3
   },
   "file_extension": ".py",
   "mimetype": "text/x-python",
   "name": "python",
   "nbconvert_exporter": "python",
   "pygments_lexer": "ipython3",
   "version": "3.7.3"
  }
 },
 "nbformat": 4,
 "nbformat_minor": 2
}
